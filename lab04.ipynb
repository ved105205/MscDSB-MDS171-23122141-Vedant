{
 "cells": [
  {
   "cell_type": "code",
   "execution_count": 1,
   "metadata": {},
   "outputs": [],
   "source": [
    "# First I Create a function For Alice\n",
    "def get_insight(file_name):\n",
    "    with open(file_name + \".txt\", \"r\") as file:\n",
    "        print(file.read())\n",
    "\n",
    "\n",
    "def to_order(name, price, phone_number, qty, total_guest, date, file_name):\n",
    "    with open(file_name + \".txt\", \"a+\") as file:\n",
    "        total_order = 0\n",
    "        total_price_order = price * qty\n",
    "\n",
    "        file.write(f\"Total Order Till Date: {total_order}\")\n",
    "        file.write(f\"\\nName: {name}\")\n",
    "        file.write(f\"\\nPhone Number: {phone_number}\")\n",
    "        file.write(f\"\\nFood Price: {price}\")\n",
    "        file.write(f\"\\nTotal qty: {qty}\")\n",
    "        file.write(f\"\\nTotal Guest: {total_guest}\")\n",
    "        file.write(f\"\\nDate: {date}\")\n",
    "        file.write(\"\\n---------------------------------\")\n",
    "        file.write(f\"Total price For This Order: {total_price_order}\")\n",
    "        file.write(\"---------------------------------\")\n",
    "\n",
    "\n",
    "name = input(\"Customer Name: \")\n",
    "price = int(input(\"Food Price: \"))\n",
    "phone_number = int(input(\"Customer Phone Number: \"))\n",
    "qty = int(input(\"Quantity: \"))\n",
    "guest = int(input(\"Total Guest: \"))\n",
    "date = input(\"Date of the order: \")\n",
    "\n",
    "to_order(name, price, phone_number, qty, guest, date, \"order\")\n",
    "\n",
    "    "
   ]
  }
 ],
 "metadata": {
  "kernelspec": {
   "display_name": "Python 3",
   "language": "python",
   "name": "python3"
  },
  "language_info": {
   "codemirror_mode": {
    "name": "ipython",
    "version": 3
   },
   "file_extension": ".py",
   "mimetype": "text/x-python",
   "name": "python",
   "nbconvert_exporter": "python",
   "pygments_lexer": "ipython3",
   "version": "3.10.4"
  },
  "orig_nbformat": 4
 },
 "nbformat": 4,
 "nbformat_minor": 2
}
