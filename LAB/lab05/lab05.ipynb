{
 "cells": [
  {
   "cell_type": "code",
<<<<<<< HEAD
   "execution_count": 1,
=======
   "execution_count": 4,
>>>>>>> ec7c014852af7be0fa6c9ea92f3e9e929ed4c5ac
   "metadata": {},
   "outputs": [
    {
     "name": "stdout",
     "output_type": "stream",
     "text": [
<<<<<<< HEAD
      "Total number of vowels: 3\n",
      "Vowel counts:\n",
      "i: 2\n",
      "u: 1\n",
      "Percentage of vowels in the string: 27.27%\n"
=======
      "Total number of vowels: 2\n",
      "Vowel counts:\n",
      "e: 1\n",
      "a: 1\n",
      "Percentage of vowels in the string: 33.33%\n"
>>>>>>> ec7c014852af7be0fa6c9ea92f3e9e929ed4c5ac
     ]
    }
   ],
   "source": [
    "def count_vowels(string):\n",
    "    vowels = \"AEIOUaeiou\"\n",
    "    vowel_count = {}\n",
    "    total_count = 0\n",
    "\n",
    "    for char in string:\n",
    "        if char in vowels:\n",
    "            if char in vowel_count:\n",
    "                vowel_count[char] += 1\n",
    "            else:\n",
    "                vowel_count[char] = 1\n",
    "            total_count += 1\n",
    "\n",
    "    return total_count, vowel_count\n",
    "\n",
    "def calculate_percentage(total_count, string_length):\n",
    "    return (total_count / string_length) * 100\n",
    "\n",
    "def main():\n",
    "    user_input = input(\"Enter a string: \")\n",
    "    string_length = len(user_input)\n",
    "    \n",
    "    total_count, vowel_count = count_vowels(user_input)\n",
    "    \n",
    "    print(f\"Total number of vowels: {total_count}\")\n",
    "    \n",
    "    print(\"Vowel counts:\")\n",
    "    for vowel, count in vowel_count.items():\n",
    "        print(f\"{vowel}: {count}\")\n",
    "    \n",
    "    percentage = calculate_percentage(total_count, string_length)\n",
    "    print(f\"Percentage of vowels in the string: {percentage:.2f}%\")\n",
    "\n",
    "if __name__ == \"__main__\":\n",
    "    main()\n"
   ]
  }
 ],
 "metadata": {
  "kernelspec": {
   "display_name": "Python 3",
   "language": "python",
   "name": "python3"
  },
  "language_info": {
   "codemirror_mode": {
    "name": "ipython",
    "version": 3
   },
   "file_extension": ".py",
   "mimetype": "text/x-python",
   "name": "python",
   "nbconvert_exporter": "python",
   "pygments_lexer": "ipython3",
   "version": "3.10.4"
  },
  "orig_nbformat": 4
 },
 "nbformat": 4,
 "nbformat_minor": 2
}
