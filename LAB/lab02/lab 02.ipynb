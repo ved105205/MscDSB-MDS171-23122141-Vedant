{
 "cells": [
  {
   "cell_type": "code",
   "execution_count": 1,
   "metadata": {},
   "outputs": [
    {
     "name": "stdout",
     "output_type": "stream",
     "text": [
      "34ThreeFour\n"
     ]
    }
   ],
   "source": [
    "number = [\n",
    "    \"Zero\",\n",
    "    \"One\",\n",
    "    \"Two\",\n",
    "    \"Three\",\n",
    "    \"Four\",\n",
    "    \"Five\",\n",
    "    \"Six\",\n",
    "    \"Seven\",\n",
    "    \"Eight\",\n",
    "    \"Nine\",\n",
    "]\n",
    "\n",
    "\n",
    "def to_alice(number, user):\n",
    "    str_user = str(user)\n",
    "    new_value = \"\"\n",
    "    for i in str_user:\n",
    "        digit = int(i)\n",
    "        new_value += number[digit]\n",
    "    return new_value\n",
    "\n",
    "\n",
    "user_input = int(input(\"Enter the Number: \"))\n",
    "result = to_alice(number, user_input)\n",
    "print(f\"{user_input}{result}\")"
   ]
  }
 ],
 "metadata": {
  "kernelspec": {
   "display_name": "Python 3",
   "language": "python",
   "name": "python3"
  },
  "language_info": {
   "codemirror_mode": {
    "name": "ipython",
    "version": 3
   },
   "file_extension": ".py",
   "mimetype": "text/x-python",
   "name": "python",
   "nbconvert_exporter": "python",
   "pygments_lexer": "ipython3",
   "version": "3.10.4"
  },
  "orig_nbformat": 4
 },
 "nbformat": 4,
 "nbformat_minor": 2
}
