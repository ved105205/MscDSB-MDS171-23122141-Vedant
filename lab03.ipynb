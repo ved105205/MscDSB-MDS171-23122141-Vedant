{
 "cells": [
  {
   "cell_type": "code",
   "execution_count": 15,
   "metadata": {},
   "outputs": [],
   "source": [
    "values = [761, 123, 585, 275, 194, 840, 999, 622, 763, 40, 825, 687, 402, 338, 611, 987, 739, 95, 819, 568, 320, 126, 688, 948, 514, 223, 751, 379, 857, 767, 492, 162, 437, 934, 430, 343, 725, 511, 580, 678, 708, 823, 346, 179, 786, 663, 195, 890, 267, 502, 214, 300, 786, 961, 235, 559, 992, 919, 948, 318, 57, 787, 653, 317, 305, 172, 966, 182, 970, 17, 89, 624, 629, 595, 485, 752, 984, 978, 460, 124, 321, 256, 614, 852, 811, 561, 127, 207, 406, 615, 888, 391, 691, 470, 911, 401, 137, 600, 478, 682]\n",
    "n = len(values)\n",
    "def mean():\n",
    "    totalsum = 0\n",
    "    count = 0\n",
    "\n",
    "    for i in values:\n",
    "        totalsum += i\n",
    "        count += 1\n",
    "\n",
    "        average = totalsum / count\n",
    "    return average\n",
    "    \n",
    "mean()\n",
    "\n",
    "def min():\n",
    "    minvalue =values[0]\n",
    "    for i in values:\n",
    "        minvalue = i\n",
    "    return minvalue\n",
    "\n",
    "\n",
    "\n",
    "\n",
    "\n",
    "\n",
    "\n",
    "\n",
    "\n",
    "\n",
    "\n",
    "def max():\n",
    "    maxvalue =values[0]\n",
    "    for i in values:\n",
    "        maxvalue = i\n",
    "    return maxvalue\n",
    "\n",
    "def myrange():\n",
    "    rangevalue = max()-min()\n",
    "    return myrange\n",
    "\n"
   ]
  },
  {
   "cell_type": "code",
   "execution_count": null,
   "metadata": {},
   "outputs": [],
   "source": []
  }
 ],
 "metadata": {
  "kernelspec": {
   "display_name": "Python 3",
   "language": "python",
   "name": "python3"
  },
  "language_info": {
   "codemirror_mode": {
    "name": "ipython",
    "version": 3
   },
   "file_extension": ".py",
   "mimetype": "text/x-python",
   "name": "python",
   "nbconvert_exporter": "python",
   "pygments_lexer": "ipython3",
   "version": "3.10.4"
  },
  "orig_nbformat": 4
 },
 "nbformat": 4,
 "nbformat_minor": 2
}
