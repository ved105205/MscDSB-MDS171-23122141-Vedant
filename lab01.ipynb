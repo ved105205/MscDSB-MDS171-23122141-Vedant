{
 "cells": [
  {
   "cell_type": "code",
   "execution_count": 1,
   "metadata": {},
   "outputs": [
    {
     "ename": "SyntaxError",
     "evalue": "invalid syntax. Perhaps you forgot a comma? (4244232521.py, line 3)",
     "output_type": "error",
     "traceback": [
      "\u001b[1;36m  Cell \u001b[1;32mIn[1], line 3\u001b[1;36m\u001b[0m\n\u001b[1;33m    name=str(input(Enter a number ...)):\u001b[0m\n\u001b[1;37m                   ^\u001b[0m\n\u001b[1;31mSyntaxError\u001b[0m\u001b[1;31m:\u001b[0m invalid syntax. Perhaps you forgot a comma?\n"
     ]
    }
   ],
   "source": [
    "#write a program to print n times name and n will be user input\n",
    "\n",
    "name=str(input(Enter a number ...)):\n",
    "print(name)\n"
   ]
  },
  {
   "cell_type": "code",
   "execution_count": 3,
   "metadata": {},
   "outputs": [
    {
     "name": "stdout",
     "output_type": "stream",
     "text": [
      "56\n"
     ]
    }
   ],
   "source": [
    "a= input('Enter a number')\n",
    "print(a)"
   ]
  },
  {
   "cell_type": "code",
   "execution_count": 1,
   "metadata": {},
   "outputs": [
    {
     "name": "stdout",
     "output_type": "stream",
     "text": [
      "Vedant Nehal\n",
      "Vedant Nehal\n",
      "Vedant Nehal\n",
      "Vedant Nehal\n",
      "Vedant Nehal\n",
      "Vedant Nehal\n",
      "Vedant Nehal\n",
      "Vedant Nehal\n",
      "Vedant Nehal\n",
      "Vedant Nehal\n",
      "Vedant Nehal\n",
      "Vedant Nehal\n",
      "Vedant Nehal\n",
      "Vedant Nehal\n",
      "Vedant Nehal\n",
      "Vedant Nehal\n",
      "Vedant Nehal\n",
      "Vedant Nehal\n",
      "Vedant Nehal\n",
      "Vedant Nehal\n",
      "Vedant Nehal\n",
      "Vedant Nehal\n",
      "Vedant Nehal\n",
      "Vedant Nehal\n",
      "Vedant Nehal\n",
      "Vedant Nehal\n",
      "Vedant Nehal\n",
      "Vedant Nehal\n",
      "Vedant Nehal\n",
      "Vedant Nehal\n",
      "Vedant Nehal\n",
      "Vedant Nehal\n",
      "Vedant Nehal\n",
      "Vedant Nehal\n",
      "Vedant Nehal\n",
      "Vedant Nehal\n"
     ]
    }
   ],
   "source": [
    "name=str(input('Enter a name'))\n",
    "num=int(input('How many times you want to print '))\n",
    "for i in range(num+1):\n",
    "    print(name)"
   ]
  },
  {
   "cell_type": "code",
   "execution_count": null,
   "metadata": {},
   "outputs": [],
   "source": []
  }
 ],
 "metadata": {
  "kernelspec": {
   "display_name": "Python 3",
   "language": "python",
   "name": "python3"
  },
  "language_info": {
   "codemirror_mode": {
    "name": "ipython",
    "version": 3
   },
   "file_extension": ".py",
   "mimetype": "text/x-python",
   "name": "python",
   "nbconvert_exporter": "python",
   "pygments_lexer": "ipython3",
   "version": "3.10.4"
  },
  "orig_nbformat": 4
 },
 "nbformat": 4,
 "nbformat_minor": 2
}
