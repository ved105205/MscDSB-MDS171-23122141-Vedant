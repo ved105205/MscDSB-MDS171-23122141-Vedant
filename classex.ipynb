{
 "cells": [
  {
   "cell_type": "code",
   "execution_count": 8,
   "metadata": {},
   "outputs": [],
   "source": [
    "#restaurant\n",
    "#Customers-> orders (Menu items)\n",
    "#Collecting orders\n",
    "#billing\n",
    "#update order\n",
    "#Search for an order\n",
    "\n",
    "\n",
    "\n",
    "class restaurant:\n",
    "    def __init__(self):\n",
    "        self.menu \n",
    "        self.order\n",
    "\n",
    "    def collectorder(self):\n",
    "        self.printmenu()#printmenu\n",
    "        phone = input(\"Enter customer,phone number:\")\n",
    "        order = ()\n",
    "        while True:\n",
    "            item = input(\"Enter the item name you want to order:\").strip().title\n",
    "            qty = int(\"Enter the quantity of an item\")\n",
    "            order[item] = qty\n",
    "            choice = input(\"do you want to complete order ?,\")\n",
    "            if choice =='Y' :\n",
    "                break\n",
    "            orderid = self.generateorderid()\n",
    "            self.orders[orderid] = {\n",
    "                \"phone\": phone,\n",
    "                \"order\": order\n",
    "            }\n",
    "            print(self.orders)"
   ]
  },
  {
   "cell_type": "code",
   "execution_count": null,
   "metadata": {},
   "outputs": [],
   "source": []
  }
 ],
 "metadata": {
  "kernelspec": {
   "display_name": "Python 3",
   "language": "python",
   "name": "python3"
  },
  "language_info": {
   "codemirror_mode": {
    "name": "ipython",
    "version": 3
   },
   "file_extension": ".py",
   "mimetype": "text/x-python",
   "name": "python",
   "nbconvert_exporter": "python",
   "pygments_lexer": "ipython3",
   "version": "3.10.4"
  },
  "orig_nbformat": 4
 },
 "nbformat": 4,
 "nbformat_minor": 2
}
